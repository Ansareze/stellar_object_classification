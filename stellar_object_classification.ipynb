{
 "cells": [
  {
   "cell_type": "markdown",
   "id": "b7521f34",
   "metadata": {},
   "source": [
    "### About the Data\n",
    "The categorization of stars, galaxies, and quasars based on their spectral properties is a crucial concept in astronomy. By dividing stars into different categories based on factors such as their temperature, luminosity, and chemical composition, we can gain insight into their physical properties and evolutionary stages. Early cataloging efforts of stars and their positioning in the sky led to the discovery that they were part of our own galaxy, and as telescopes became more advanced, it was determined that other galaxies existed, such as Andromeda, which sparked further study. This dataset aims to classify stars, galaxies, and quasars according to their spectral properties."
   ]
  },
  {
   "cell_type": "markdown",
   "id": "d0892f41",
   "metadata": {},
   "source": [
    "### Column Names\n",
    "Here's what every column means:\n",
    "\n",
    "* obj_ID: Object Identifier is a unique value that identifies the object in the image catalog used by the Sloan Digital Sky Survey (SDSS) data archive.\n",
    "\n",
    "* alpha: Right Ascension angle (in degrees) at J2000 epoch, which is a coordinate system commonly used in astronomy to describe the position of celestial objects in the sky.\n",
    "\n",
    "* delta: Declination angle (in degrees) at J2000 epoch, which is another coordinate system commonly used in astronomy to describe the position of celestial objects in the sky.\n",
    "\n",
    "* u, g, r, i, z: These are photometric filters used in the SDSS system to measure the amount of light from objects in different wavelength bands.\n",
    "u = Ultraviolet filter in the photometric system\n",
    "g = Green filter in the photometric system\n",
    "r = Red filter in the photometric system\n",
    "i = Near Infrared filter in the photometric system\n",
    "z = Infrared filter in the photometric system\n",
    "\n",
    "* run_ID: Run Number is used to identify the specific scan of the sky made by SDSS. Each scan covers a specific area of the sky and is assigned a unique run number.\n",
    "\n",
    "* rereun_ID: Rerun Number is used to specify how the image was processed, such as the version of the software or the calibration used to create the image.\n",
    "\n",
    "* cam_col: Camera column is used to identify the scanline within the run. Each scan is divided into multiple camera columns to cover a larger area of the sky.\n",
    "\n",
    "* field_ID: Field Number is used to identify each field in the scan, which is a smaller area within the camera column.\n",
    "\n",
    "* spec_obj_ID: Unique ID used for optical spectroscopic objects. This means that two different observations with the same spec_obj_ID must share the output class, which is either a galaxy, star, or quasar.\n",
    "\n",
    "* class: Object class is the classification assigned to the object based on its spectral properties, which can be a galaxy, star, or quasar.\n",
    "\n",
    "* redshift: Redshift value is based on the increase in wavelength of light emitted by the object due to its motion away from or towards the observer. It is a measure of how much the universe has expanded since the light was emitted by the object.\n",
    "\n",
    "* plate: Plate ID identifies each plate used in the SDSS spectroscopic survey. Each plate contains multiple fibers that collect the light from different objects.\n",
    "\n",
    "* MJD: Modified Julian Date is used to indicate when a given piece of SDSS data was taken. It is a modified version of the Julian Date, which is a way to represent dates and times in astronomy.\n",
    "\n",
    "* fiber_ID: Fiber ID identifies the fiber that pointed the light at the focal plane in each observation. Each fiber collects the light from a different object, allowing SDSS to observe multiple objects simultaneously.\n",
    "\n",
    "Spectral classification is indeed a fundamental concept in astronomy, and it allows us to gain insights into the physical properties and evolutionary stages of celestial objects. Categorizing stars based on their spectral properties, such as temperature, luminosity, and chemical composition, is crucial for understanding stellar evolution and the formation of galaxies."
   ]
  }
 ],
 "metadata": {
  "language_info": {
   "name": "python"
  }
 },
 "nbformat": 4,
 "nbformat_minor": 5
}
